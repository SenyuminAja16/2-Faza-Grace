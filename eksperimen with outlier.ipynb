{
  "cells": [
    {
      "cell_type": "code",
      "execution_count": 1,
      "metadata": {
        "id": "i3rgu3TcuZF0"
      },
      "outputs": [],
      "source": [
        "import numpy as np\n",
        "import pandas as pd\n",
        "import matplotlib.pyplot as plt\n",
        "import seaborn as sns"
      ]
    },
    {
      "cell_type": "markdown",
      "metadata": {
        "id": "xJGFlnJDyA37"
      },
      "source": [
        "# Data Collecting"
      ]
    },
    {
      "cell_type": "code",
      "execution_count": 2,
      "metadata": {
        "colab": {
          "base_uri": "https://localhost:8080/",
          "height": 0
        },
        "id": "C6Wx6t9NyA39",
        "outputId": "b762b5bf-91cd-4db5-f7f3-ac63338a162f"
      },
      "outputs": [
        {
          "data": {
            "text/html": [
              "<div>\n",
              "<style scoped>\n",
              "    .dataframe tbody tr th:only-of-type {\n",
              "        vertical-align: middle;\n",
              "    }\n",
              "\n",
              "    .dataframe tbody tr th {\n",
              "        vertical-align: top;\n",
              "    }\n",
              "\n",
              "    .dataframe thead th {\n",
              "        text-align: right;\n",
              "    }\n",
              "</style>\n",
              "<table border=\"1\" class=\"dataframe\">\n",
              "  <thead>\n",
              "    <tr style=\"text-align: right;\">\n",
              "      <th></th>\n",
              "      <th>tanggal</th>\n",
              "      <th>stasiun</th>\n",
              "      <th>pm10</th>\n",
              "      <th>pm25</th>\n",
              "      <th>so2</th>\n",
              "      <th>co</th>\n",
              "      <th>o3</th>\n",
              "      <th>no2</th>\n",
              "      <th>max</th>\n",
              "      <th>critical</th>\n",
              "      <th>categori</th>\n",
              "    </tr>\n",
              "  </thead>\n",
              "  <tbody>\n",
              "    <tr>\n",
              "      <th>0</th>\n",
              "      <td>2010-01-01</td>\n",
              "      <td>DKI1 (Bunderan HI)</td>\n",
              "      <td>60.0</td>\n",
              "      <td>NaN</td>\n",
              "      <td>4.0</td>\n",
              "      <td>73.0</td>\n",
              "      <td>27.0</td>\n",
              "      <td>14.0</td>\n",
              "      <td>73.0</td>\n",
              "      <td>CO</td>\n",
              "      <td>SEDANG</td>\n",
              "    </tr>\n",
              "    <tr>\n",
              "      <th>1</th>\n",
              "      <td>2010-01-02</td>\n",
              "      <td>DKI1 (Bunderan HI)</td>\n",
              "      <td>32.0</td>\n",
              "      <td>NaN</td>\n",
              "      <td>2.0</td>\n",
              "      <td>16.0</td>\n",
              "      <td>33.0</td>\n",
              "      <td>9.0</td>\n",
              "      <td>33.0</td>\n",
              "      <td>O3</td>\n",
              "      <td>BAIK</td>\n",
              "    </tr>\n",
              "    <tr>\n",
              "      <th>2</th>\n",
              "      <td>2010-01-03</td>\n",
              "      <td>DKI1 (Bunderan HI)</td>\n",
              "      <td>27.0</td>\n",
              "      <td>NaN</td>\n",
              "      <td>2.0</td>\n",
              "      <td>19.0</td>\n",
              "      <td>20.0</td>\n",
              "      <td>9.0</td>\n",
              "      <td>27.0</td>\n",
              "      <td>PM10</td>\n",
              "      <td>BAIK</td>\n",
              "    </tr>\n",
              "    <tr>\n",
              "      <th>3</th>\n",
              "      <td>2010-01-04</td>\n",
              "      <td>DKI1 (Bunderan HI)</td>\n",
              "      <td>22.0</td>\n",
              "      <td>NaN</td>\n",
              "      <td>2.0</td>\n",
              "      <td>16.0</td>\n",
              "      <td>15.0</td>\n",
              "      <td>6.0</td>\n",
              "      <td>22.0</td>\n",
              "      <td>PM10</td>\n",
              "      <td>BAIK</td>\n",
              "    </tr>\n",
              "    <tr>\n",
              "      <th>4</th>\n",
              "      <td>2010-01-05</td>\n",
              "      <td>DKI1 (Bunderan HI)</td>\n",
              "      <td>25.0</td>\n",
              "      <td>NaN</td>\n",
              "      <td>2.0</td>\n",
              "      <td>17.0</td>\n",
              "      <td>15.0</td>\n",
              "      <td>8.0</td>\n",
              "      <td>25.0</td>\n",
              "      <td>PM10</td>\n",
              "      <td>BAIK</td>\n",
              "    </tr>\n",
              "  </tbody>\n",
              "</table>\n",
              "</div>"
            ],
            "text/plain": [
              "      tanggal             stasiun  pm10  pm25  so2    co    o3   no2   max  \\\n",
              "0  2010-01-01  DKI1 (Bunderan HI)  60.0   NaN  4.0  73.0  27.0  14.0  73.0   \n",
              "1  2010-01-02  DKI1 (Bunderan HI)  32.0   NaN  2.0  16.0  33.0   9.0  33.0   \n",
              "2  2010-01-03  DKI1 (Bunderan HI)  27.0   NaN  2.0  19.0  20.0   9.0  27.0   \n",
              "3  2010-01-04  DKI1 (Bunderan HI)  22.0   NaN  2.0  16.0  15.0   6.0  22.0   \n",
              "4  2010-01-05  DKI1 (Bunderan HI)  25.0   NaN  2.0  17.0  15.0   8.0  25.0   \n",
              "\n",
              "  critical categori  \n",
              "0       CO   SEDANG  \n",
              "1       O3     BAIK  \n",
              "2     PM10     BAIK  \n",
              "3     PM10     BAIK  \n",
              "4     PM10     BAIK  "
            ]
          },
          "execution_count": 2,
          "metadata": {},
          "output_type": "execute_result"
        }
      ],
      "source": [
        "all_df = pd.read_csv('https://raw.githubusercontent.com/SenyuminAja16/2-Faza-Grace/refs/heads/master/Data%20fix/ispu_dki_all.csv')\n",
        "all_df.head(5)"
      ]
    },
    {
      "cell_type": "markdown",
      "metadata": {
        "id": "s8i_5i2tyA3-"
      },
      "source": [
        "# Data Cleaning"
      ]
    },
    {
      "cell_type": "code",
      "execution_count": 3,
      "metadata": {
        "colab": {
          "base_uri": "https://localhost:8080/"
        },
        "id": "3dsgfiKtyA3_",
        "outputId": "aa03325e-ca68-4d9c-a84b-f45157a7d70c"
      },
      "outputs": [
        {
          "name": "stdout",
          "output_type": "stream",
          "text": [
            "<class 'pandas.core.frame.DataFrame'>\n",
            "RangeIndex: 4626 entries, 0 to 4625\n",
            "Data columns (total 11 columns):\n",
            " #   Column    Non-Null Count  Dtype  \n",
            "---  ------    --------------  -----  \n",
            " 0   tanggal   4626 non-null   object \n",
            " 1   stasiun   4626 non-null   object \n",
            " 2   pm10      4466 non-null   float64\n",
            " 3   pm25      723 non-null    float64\n",
            " 4   so2       4607 non-null   float64\n",
            " 5   co        4618 non-null   float64\n",
            " 6   o3        4621 non-null   float64\n",
            " 7   no2       4618 non-null   float64\n",
            " 8   max       4626 non-null   float64\n",
            " 9   critical  4625 non-null   object \n",
            " 10  categori  4626 non-null   object \n",
            "dtypes: float64(7), object(4)\n",
            "memory usage: 397.7+ KB\n"
          ]
        }
      ],
      "source": [
        "all_df.info()"
      ]
    },
    {
      "cell_type": "code",
      "execution_count": 4,
      "metadata": {
        "id": "xPytYpNbyA3_"
      },
      "outputs": [],
      "source": [
        "all_df['tanggal'] = pd.to_datetime(all_df['tanggal'])"
      ]
    },
    {
      "cell_type": "code",
      "execution_count": 5,
      "metadata": {
        "colab": {
          "base_uri": "https://localhost:8080/",
          "height": 84
        },
        "id": "pqu3vAPCyA3_",
        "outputId": "5e42d924-57ae-4cee-f18c-123420e2e37c"
      },
      "outputs": [
        {
          "data": {
            "text/plain": [
              "pm10         160\n",
              "pm25        3903\n",
              "so2           19\n",
              "co             8\n",
              "o3             5\n",
              "no2            8\n",
              "critical       1\n",
              "dtype: int64"
            ]
          },
          "execution_count": 5,
          "metadata": {},
          "output_type": "execute_result"
        }
      ],
      "source": [
        "missing_values = all_df.isna().sum()\n",
        "missing_values[missing_values > 0]"
      ]
    },
    {
      "cell_type": "code",
      "execution_count": 6,
      "metadata": {
        "colab": {
          "base_uri": "https://localhost:8080/",
          "height": 724
        },
        "id": "xuTLWXZpyA4A",
        "outputId": "67aeb600-8a94-4584-de07-083b6687fc3a"
      },
      "outputs": [
        {
          "data": {
            "text/plain": [
              "Text(0.5, 1.0, 'Feature Correlation')"
            ]
          },
          "execution_count": 6,
          "metadata": {},
          "output_type": "execute_result"
        },
        {
          "data": {
            "image/png": "[encoded data removed]",
            "text/plain": [
              "<Figure size 1200x800 with 2 Axes>"
            ]
          },
          "metadata": {},
          "output_type": "display_data"
        }
      ],
      "source": [
        "numeric_features = all_df.select_dtypes(include='number').columns\n",
        "plt.figure(figsize=(12,8))\n",
        "sns.heatmap(all_df[numeric_features].corr(), annot=True, cmap='coolwarm')\n",
        "plt.title('Feature Correlation', fontsize=20)"
      ]
    },
    {
      "cell_type": "code",
      "execution_count": 7,
      "metadata": {
        "id": "8d_8L1PByA4B"
      },
      "outputs": [],
      "source": [
        "all_df['pm10'] = all_df['pm10'].fillna(all_df['pm10'].median())"
      ]
    },
    {
      "cell_type": "code",
      "execution_count": 8,
      "metadata": {
        "id": "adH4q-bDyA4B"
      },
      "outputs": [],
      "source": [
        "all_df['so2'] = all_df['so2'].fillna(all_df['so2'].median())"
      ]
    },
    {
      "cell_type": "code",
      "execution_count": 9,
      "metadata": {
        "id": "nHJibtwRyA4C"
      },
      "outputs": [],
      "source": [
        "all_df['co'] = all_df['co'].fillna(all_df['co'].median())"
      ]
    },
    {
      "cell_type": "code",
      "execution_count": 10,
      "metadata": {
        "id": "oPQJHzDzyA4C"
      },
      "outputs": [],
      "source": [
        "all_df['o3'] = all_df['o3'].fillna(all_df['o3'].median())"
      ]
    },
    {
      "cell_type": "code",
      "execution_count": 11,
      "metadata": {
        "id": "-5rrQ4hoyA4C"
      },
      "outputs": [],
      "source": [
        "all_df['no2'] = all_df['no2'].fillna(all_df['no2'].median())"
      ]
    },
    {
      "cell_type": "code",
      "execution_count": 12,
      "metadata": {
        "id": "Oh7IBksyyA4C"
      },
      "outputs": [],
      "source": [
        "all_df = all_df[all_df['categori'] != 'TIDAK ADA DATA']"
      ]
    },
    {
      "cell_type": "code",
      "execution_count": 13,
      "metadata": {
        "colab": {
          "base_uri": "https://localhost:8080/"
        },
        "id": "-O3dGs70yA4C",
        "outputId": "ff5ab0df-4fb2-4a36-bd6e-5bd9a6b03e8d"
      },
      "outputs": [
        {
          "name": "stdout",
          "output_type": "stream",
          "text": [
            "Data yang memiliki duplikat: 0\n"
          ]
        }
      ],
      "source": [
        "print(f'Data yang memiliki duplikat: {all_df.duplicated().sum()}')"
      ]
    },
    {
      "cell_type": "code",
      "execution_count": 14,
      "metadata": {
        "id": "oRCUQJygyA4D"
      },
      "outputs": [],
      "source": [
        "all_df[\"critical\"] = all_df[[\"pm10\", \"so2\", \"co\", \"o3\", \"no2\"]].idxmax(axis=1)"
      ]
    },
    {
      "cell_type": "code",
      "execution_count": 15,
      "metadata": {
        "colab": {
          "base_uri": "https://localhost:8080/",
          "height": 287
        },
        "id": "fBSUfS4zyA4D",
        "outputId": "c485b761-617a-4a6e-f8c6-fe2e709f759c"
      },
      "outputs": [],
      "source": [
        "all_df.drop(columns='pm25', inplace=True)"
      ]
    },
    {
      "cell_type": "code",
      "execution_count": 16,
      "metadata": {
        "colab": {
          "base_uri": "https://localhost:8080/",
          "height": 394
        },
        "id": "pI4i-jqYyA4D",
        "outputId": "98998e0e-eaf2-48a2-9432-c7ac86d9a229"
      },
      "outputs": [
        {
          "data": {
            "text/html": [
              "<div>\n",
              "<style scoped>\n",
              "    .dataframe tbody tr th:only-of-type {\n",
              "        vertical-align: middle;\n",
              "    }\n",
              "\n",
              "    .dataframe tbody tr th {\n",
              "        vertical-align: top;\n",
              "    }\n",
              "\n",
              "    .dataframe thead th {\n",
              "        text-align: right;\n",
              "    }\n",
              "</style>\n",
              "<table border=\"1\" class=\"dataframe\">\n",
              "  <thead>\n",
              "    <tr style=\"text-align: right;\">\n",
              "      <th></th>\n",
              "      <th>tanggal</th>\n",
              "      <th>stasiun</th>\n",
              "      <th>pm10</th>\n",
              "      <th>so2</th>\n",
              "      <th>co</th>\n",
              "      <th>o3</th>\n",
              "      <th>no2</th>\n",
              "      <th>max</th>\n",
              "      <th>critical</th>\n",
              "      <th>categori</th>\n",
              "    </tr>\n",
              "  </thead>\n",
              "  <tbody>\n",
              "    <tr>\n",
              "      <th>count</th>\n",
              "      <td>4625</td>\n",
              "      <td>4625</td>\n",
              "      <td>4625.000000</td>\n",
              "      <td>4625.000000</td>\n",
              "      <td>4625.000000</td>\n",
              "      <td>4625.000000</td>\n",
              "      <td>4625.000000</td>\n",
              "      <td>4625.000000</td>\n",
              "      <td>4625</td>\n",
              "      <td>4625</td>\n",
              "    </tr>\n",
              "    <tr>\n",
              "      <th>unique</th>\n",
              "      <td>NaN</td>\n",
              "      <td>5</td>\n",
              "      <td>NaN</td>\n",
              "      <td>NaN</td>\n",
              "      <td>NaN</td>\n",
              "      <td>NaN</td>\n",
              "      <td>NaN</td>\n",
              "      <td>NaN</td>\n",
              "      <td>5</td>\n",
              "      <td>5</td>\n",
              "    </tr>\n",
              "    <tr>\n",
              "      <th>top</th>\n",
              "      <td>NaN</td>\n",
              "      <td>DKI4 (Lubang Buaya)</td>\n",
              "      <td>NaN</td>\n",
              "      <td>NaN</td>\n",
              "      <td>NaN</td>\n",
              "      <td>NaN</td>\n",
              "      <td>NaN</td>\n",
              "      <td>NaN</td>\n",
              "      <td>o3</td>\n",
              "      <td>SEDANG</td>\n",
              "    </tr>\n",
              "    <tr>\n",
              "      <th>freq</th>\n",
              "      <td>NaN</td>\n",
              "      <td>1592</td>\n",
              "      <td>NaN</td>\n",
              "      <td>NaN</td>\n",
              "      <td>NaN</td>\n",
              "      <td>NaN</td>\n",
              "      <td>NaN</td>\n",
              "      <td>NaN</td>\n",
              "      <td>2925</td>\n",
              "      <td>2574</td>\n",
              "    </tr>\n",
              "    <tr>\n",
              "      <th>mean</th>\n",
              "      <td>2016-06-23 07:15:53.513513728</td>\n",
              "      <td>NaN</td>\n",
              "      <td>65.049514</td>\n",
              "      <td>28.179243</td>\n",
              "      <td>30.261622</td>\n",
              "      <td>86.579243</td>\n",
              "      <td>18.119135</td>\n",
              "      <td>99.453622</td>\n",
              "      <td>NaN</td>\n",
              "      <td>NaN</td>\n",
              "    </tr>\n",
              "    <tr>\n",
              "      <th>min</th>\n",
              "      <td>2010-01-01 00:00:00</td>\n",
              "      <td>NaN</td>\n",
              "      <td>0.000000</td>\n",
              "      <td>0.000000</td>\n",
              "      <td>0.000000</td>\n",
              "      <td>0.000000</td>\n",
              "      <td>0.000000</td>\n",
              "      <td>22.000000</td>\n",
              "      <td>NaN</td>\n",
              "      <td>NaN</td>\n",
              "    </tr>\n",
              "    <tr>\n",
              "      <th>25%</th>\n",
              "      <td>2013-03-05 00:00:00</td>\n",
              "      <td>NaN</td>\n",
              "      <td>54.000000</td>\n",
              "      <td>18.000000</td>\n",
              "      <td>21.000000</td>\n",
              "      <td>51.000000</td>\n",
              "      <td>13.000000</td>\n",
              "      <td>70.000000</td>\n",
              "      <td>NaN</td>\n",
              "      <td>NaN</td>\n",
              "    </tr>\n",
              "    <tr>\n",
              "      <th>50%</th>\n",
              "      <td>2016-05-04 00:00:00</td>\n",
              "      <td>NaN</td>\n",
              "      <td>64.000000</td>\n",
              "      <td>27.000000</td>\n",
              "      <td>29.000000</td>\n",
              "      <td>78.000000</td>\n",
              "      <td>17.000000</td>\n",
              "      <td>91.000000</td>\n",
              "      <td>NaN</td>\n",
              "      <td>NaN</td>\n",
              "    </tr>\n",
              "    <tr>\n",
              "      <th>75%</th>\n",
              "      <td>2019-07-23 00:00:00</td>\n",
              "      <td>NaN</td>\n",
              "      <td>75.000000</td>\n",
              "      <td>34.000000</td>\n",
              "      <td>37.000000</td>\n",
              "      <td>110.000000</td>\n",
              "      <td>21.000000</td>\n",
              "      <td>118.000000</td>\n",
              "      <td>NaN</td>\n",
              "      <td>NaN</td>\n",
              "    </tr>\n",
              "    <tr>\n",
              "      <th>max</th>\n",
              "      <td>2023-11-30 00:00:00</td>\n",
              "      <td>NaN</td>\n",
              "      <td>179.000000</td>\n",
              "      <td>126.000000</td>\n",
              "      <td>134.000000</td>\n",
              "      <td>314.000000</td>\n",
              "      <td>134.000000</td>\n",
              "      <td>314.000000</td>\n",
              "      <td>NaN</td>\n",
              "      <td>NaN</td>\n",
              "    </tr>\n",
              "    <tr>\n",
              "      <th>std</th>\n",
              "      <td>NaN</td>\n",
              "      <td>NaN</td>\n",
              "      <td>18.910448</td>\n",
              "      <td>13.795375</td>\n",
              "      <td>13.630104</td>\n",
              "      <td>50.274754</td>\n",
              "      <td>8.445318</td>\n",
              "      <td>43.264747</td>\n",
              "      <td>NaN</td>\n",
              "      <td>NaN</td>\n",
              "    </tr>\n",
              "  </tbody>\n",
              "</table>\n",
              "</div>"
            ],
            "text/plain": [
              "                              tanggal              stasiun         pm10  \\\n",
              "count                            4625                 4625  4625.000000   \n",
              "unique                            NaN                    5          NaN   \n",
              "top                               NaN  DKI4 (Lubang Buaya)          NaN   \n",
              "freq                              NaN                 1592          NaN   \n",
              "mean    2016-06-23 07:15:53.513513728                  NaN    65.049514   \n",
              "min               2010-01-01 00:00:00                  NaN     0.000000   \n",
              "25%               2013-03-05 00:00:00                  NaN    54.000000   \n",
              "50%               2016-05-04 00:00:00                  NaN    64.000000   \n",
              "75%               2019-07-23 00:00:00                  NaN    75.000000   \n",
              "max               2023-11-30 00:00:00                  NaN   179.000000   \n",
              "std                               NaN                  NaN    18.910448   \n",
              "\n",
              "                so2           co           o3          no2          max  \\\n",
              "count   4625.000000  4625.000000  4625.000000  4625.000000  4625.000000   \n",
              "unique          NaN          NaN          NaN          NaN          NaN   \n",
              "top             NaN          NaN          NaN          NaN          NaN   \n",
              "freq            NaN          NaN          NaN          NaN          NaN   \n",
              "mean      28.179243    30.261622    86.579243    18.119135    99.453622   \n",
              "min        0.000000     0.000000     0.000000     0.000000    22.000000   \n",
              "25%       18.000000    21.000000    51.000000    13.000000    70.000000   \n",
              "50%       27.000000    29.000000    78.000000    17.000000    91.000000   \n",
              "75%       34.000000    37.000000   110.000000    21.000000   118.000000   \n",
              "max      126.000000   134.000000   314.000000   134.000000   314.000000   \n",
              "std       13.795375    13.630104    50.274754     8.445318    43.264747   \n",
              "\n",
              "       critical categori  \n",
              "count      4625     4625  \n",
              "unique        5        5  \n",
              "top          o3   SEDANG  \n",
              "freq       2925     2574  \n",
              "mean        NaN      NaN  \n",
              "min         NaN      NaN  \n",
              "25%         NaN      NaN  \n",
              "50%         NaN      NaN  \n",
              "75%         NaN      NaN  \n",
              "max         NaN      NaN  \n",
              "std         NaN      NaN  "
            ]
          },
          "execution_count": 16,
          "metadata": {},
          "output_type": "execute_result"
        }
      ],
      "source": [
        "all_df.describe(include='all')"
      ]
    },
    {
      "cell_type": "code",
      "execution_count": 17,
      "metadata": {
        "id": "lFmK-FSXyN9S"
      },
      "outputs": [
        {
          "data": {
            "image/png": "[encoded data removed]",
            "text/plain": [
              "<Figure size 1500x1500 with 6 Axes>"
            ]
          },
          "metadata": {},
          "output_type": "display_data"
        }
      ],
      "source": [
        "numeric_features = all_df.select_dtypes(include='number').columns\n",
        "\n",
        "total_features = len(numeric_features)\n",
        "n_cols = 2\n",
        "n_rows = -(-total_features // n_cols)\n",
        "\n",
        "fig, axes = plt.subplots(nrows=n_rows, ncols=n_cols, figsize=(15, n_rows * 5))\n",
        "axes = axes.flatten()\n",
        "\n",
        "for i, feature in enumerate(numeric_features):\n",
        "    sns.boxplot(x=all_df[feature], ax=axes[i])\n",
        "    axes[i].set_title(feature)\n",
        "\n",
        "for j in range(i + 1, len(axes)):\n",
        "    fig.delaxes(axes[j])\n",
        "\n",
        "plt.tight_layout()\n",
        "plt.show()\n"
      ]
    },
    {
      "cell_type": "code",
      "execution_count": 18,
      "metadata": {
        "colab": {
          "base_uri": "https://localhost:8080/",
          "height": 210
        },
        "id": "sxcwiXOo1ZxP",
        "outputId": "95c48a4c-6517-4ac3-b6b8-1d7778dcf080"
      },
      "outputs": [
        {
          "data": {
            "text/plain": [
              "categori\n",
              "SEDANG                2574\n",
              "TIDAK SEHAT           1568\n",
              "BAIK                   280\n",
              "SANGAT TIDAK SEHAT     202\n",
              "BERBAHAYA                1\n",
              "Name: count, dtype: int64"
            ]
          },
          "execution_count": 18,
          "metadata": {},
          "output_type": "execute_result"
        }
      ],
      "source": [
        "all_df['categori'].value_counts()"
      ]
    },
    {
      "cell_type": "markdown",
      "metadata": {},
      "source": [
        "# Visualisasi Data"
      ]
    },
    {
      "cell_type": "markdown",
      "metadata": {},
      "source": [
        "## Distribusi Polutan"
      ]
    },
    {
      "cell_type": "code",
      "execution_count": 19,
      "metadata": {},
      "outputs": [
        {
          "data": {
            "image/png": "[encoded data removed]",
            "text/plain": [
              "<Figure size 1500x1000 with 6 Axes>"
            ]
          },
          "metadata": {},
          "output_type": "display_data"
        }
      ],
      "source": [
        "plt.figure(figsize=(15,10))\n",
        "for i, column, in enumerate(numeric_features, 1):\n",
        "    plt.subplot(2, 3, i)\n",
        "    sns.histplot(all_df[column], kde=True, bins=30)\n",
        "    plt.title(f\"Distribution of {column}\")\n",
        "\n",
        "plt.tight_layout()\n",
        "plt.show()"
      ]
    },
    {
      "cell_type": "markdown",
      "metadata": {},
      "source": [
        "# Distribusi Polutan di setiap stasiun"
      ]
    },
    {
      "cell_type": "code",
      "execution_count": 20,
      "metadata": {},
      "outputs": [
        {
          "data": {
            "text/html": [
              "<div>\n",
              "<style scoped>\n",
              "    .dataframe tbody tr th:only-of-type {\n",
              "        vertical-align: middle;\n",
              "    }\n",
              "\n",
              "    .dataframe tbody tr th {\n",
              "        vertical-align: top;\n",
              "    }\n",
              "\n",
              "    .dataframe thead th {\n",
              "        text-align: right;\n",
              "    }\n",
              "</style>\n",
              "<table border=\"1\" class=\"dataframe\">\n",
              "  <thead>\n",
              "    <tr style=\"text-align: right;\">\n",
              "      <th></th>\n",
              "      <th>pm10</th>\n",
              "      <th>so2</th>\n",
              "      <th>co</th>\n",
              "      <th>o3</th>\n",
              "      <th>no2</th>\n",
              "    </tr>\n",
              "    <tr>\n",
              "      <th>stasiun</th>\n",
              "      <th></th>\n",
              "      <th></th>\n",
              "      <th></th>\n",
              "      <th></th>\n",
              "      <th></th>\n",
              "    </tr>\n",
              "  </thead>\n",
              "  <tbody>\n",
              "    <tr>\n",
              "      <th>DKI1 (Bunderan HI)</th>\n",
              "      <td>57.545817</td>\n",
              "      <td>17.665339</td>\n",
              "      <td>33.838645</td>\n",
              "      <td>51.996016</td>\n",
              "      <td>17.884462</td>\n",
              "    </tr>\n",
              "    <tr>\n",
              "      <th>DKI2 (Kelapa Gading)</th>\n",
              "      <td>59.986541</td>\n",
              "      <td>28.092867</td>\n",
              "      <td>30.581427</td>\n",
              "      <td>99.776581</td>\n",
              "      <td>18.948856</td>\n",
              "    </tr>\n",
              "    <tr>\n",
              "      <th>DKI3 (Jagakarsa)</th>\n",
              "      <td>64.370652</td>\n",
              "      <td>30.440217</td>\n",
              "      <td>30.550000</td>\n",
              "      <td>85.588043</td>\n",
              "      <td>17.392391</td>\n",
              "    </tr>\n",
              "    <tr>\n",
              "      <th>DKI4 (Lubang Buaya)</th>\n",
              "      <td>69.586055</td>\n",
              "      <td>30.150126</td>\n",
              "      <td>28.581658</td>\n",
              "      <td>80.415201</td>\n",
              "      <td>18.778266</td>\n",
              "    </tr>\n",
              "    <tr>\n",
              "      <th>DKI5 (Kebon Jeruk)</th>\n",
              "      <td>66.122120</td>\n",
              "      <td>28.322581</td>\n",
              "      <td>30.694700</td>\n",
              "      <td>107.639401</td>\n",
              "      <td>17.105991</td>\n",
              "    </tr>\n",
              "  </tbody>\n",
              "</table>\n",
              "</div>"
            ],
            "text/plain": [
              "                           pm10        so2         co          o3        no2\n",
              "stasiun                                                                     \n",
              "DKI1 (Bunderan HI)    57.545817  17.665339  33.838645   51.996016  17.884462\n",
              "DKI2 (Kelapa Gading)  59.986541  28.092867  30.581427   99.776581  18.948856\n",
              "DKI3 (Jagakarsa)      64.370652  30.440217  30.550000   85.588043  17.392391\n",
              "DKI4 (Lubang Buaya)   69.586055  30.150126  28.581658   80.415201  18.778266\n",
              "DKI5 (Kebon Jeruk)    66.122120  28.322581  30.694700  107.639401  17.105991"
            ]
          },
          "execution_count": 20,
          "metadata": {},
          "output_type": "execute_result"
        }
      ],
      "source": [
        "stasiun_trend = all_df.groupby(by='stasiun').agg({\n",
        "    'pm10' : 'mean',\n",
        "    'so2' : 'mean',\n",
        "    'co' : 'mean',\n",
        "    'o3' : 'mean',\n",
        "    'no2': 'mean',\n",
        "})\n",
        "\n",
        "stasiun_trend"
      ]
    },
    {
      "cell_type": "code",
      "execution_count": null,
      "metadata": {},
      "outputs": [],
      "source": [
        "Average_"
      ]
    },
    {
      "cell_type": "markdown",
      "metadata": {},
      "source": [
        "### 1. bagaimana Trend Polutan setiap tahunnya?"
      ]
    },
    {
      "cell_type": "code",
      "execution_count": 21,
      "metadata": {},
      "outputs": [
        {
          "data": {
            "text/html": [
              "<div>\n",
              "<style scoped>\n",
              "    .dataframe tbody tr th:only-of-type {\n",
              "        vertical-align: middle;\n",
              "    }\n",
              "\n",
              "    .dataframe tbody tr th {\n",
              "        vertical-align: top;\n",
              "    }\n",
              "\n",
              "    .dataframe thead th {\n",
              "        text-align: right;\n",
              "    }\n",
              "</style>\n",
              "<table border=\"1\" class=\"dataframe\">\n",
              "  <thead>\n",
              "    <tr style=\"text-align: right;\">\n",
              "      <th></th>\n",
              "      <th>tahun</th>\n",
              "      <th>pm10</th>\n",
              "      <th>so2</th>\n",
              "      <th>co</th>\n",
              "      <th>o3</th>\n",
              "      <th>no2</th>\n",
              "    </tr>\n",
              "  </thead>\n",
              "  <tbody>\n",
              "    <tr>\n",
              "      <th>0</th>\n",
              "      <td>2010</td>\n",
              "      <td>52.563536</td>\n",
              "      <td>13.209945</td>\n",
              "      <td>35.552486</td>\n",
              "      <td>50.334254</td>\n",
              "      <td>18.116022</td>\n",
              "    </tr>\n",
              "    <tr>\n",
              "      <th>1</th>\n",
              "      <td>2011</td>\n",
              "      <td>76.704110</td>\n",
              "      <td>17.468493</td>\n",
              "      <td>29.813699</td>\n",
              "      <td>89.161644</td>\n",
              "      <td>17.663014</td>\n",
              "    </tr>\n",
              "    <tr>\n",
              "      <th>2</th>\n",
              "      <td>2012</td>\n",
              "      <td>78.243169</td>\n",
              "      <td>25.352459</td>\n",
              "      <td>37.071038</td>\n",
              "      <td>152.218579</td>\n",
              "      <td>18.658470</td>\n",
              "    </tr>\n",
              "    <tr>\n",
              "      <th>3</th>\n",
              "      <td>2013</td>\n",
              "      <td>66.202740</td>\n",
              "      <td>20.849315</td>\n",
              "      <td>36.008219</td>\n",
              "      <td>116.120548</td>\n",
              "      <td>18.178082</td>\n",
              "    </tr>\n",
              "    <tr>\n",
              "      <th>4</th>\n",
              "      <td>2014</td>\n",
              "      <td>67.347945</td>\n",
              "      <td>14.164384</td>\n",
              "      <td>33.849315</td>\n",
              "      <td>90.246575</td>\n",
              "      <td>18.449315</td>\n",
              "    </tr>\n",
              "    <tr>\n",
              "      <th>5</th>\n",
              "      <td>2015</td>\n",
              "      <td>71.150685</td>\n",
              "      <td>23.715068</td>\n",
              "      <td>33.493151</td>\n",
              "      <td>73.336986</td>\n",
              "      <td>18.720548</td>\n",
              "    </tr>\n",
              "    <tr>\n",
              "      <th>6</th>\n",
              "      <td>2016</td>\n",
              "      <td>63.071038</td>\n",
              "      <td>30.803279</td>\n",
              "      <td>43.551913</td>\n",
              "      <td>82.751366</td>\n",
              "      <td>15.215847</td>\n",
              "    </tr>\n",
              "    <tr>\n",
              "      <th>7</th>\n",
              "      <td>2017</td>\n",
              "      <td>59.128767</td>\n",
              "      <td>43.931507</td>\n",
              "      <td>36.046575</td>\n",
              "      <td>83.923288</td>\n",
              "      <td>15.134247</td>\n",
              "    </tr>\n",
              "    <tr>\n",
              "      <th>8</th>\n",
              "      <td>2018</td>\n",
              "      <td>62.665753</td>\n",
              "      <td>30.860274</td>\n",
              "      <td>24.158904</td>\n",
              "      <td>118.942466</td>\n",
              "      <td>15.863014</td>\n",
              "    </tr>\n",
              "    <tr>\n",
              "      <th>9</th>\n",
              "      <td>2019</td>\n",
              "      <td>65.579710</td>\n",
              "      <td>27.886957</td>\n",
              "      <td>24.886957</td>\n",
              "      <td>111.944928</td>\n",
              "      <td>15.304348</td>\n",
              "    </tr>\n",
              "    <tr>\n",
              "      <th>10</th>\n",
              "      <td>2020</td>\n",
              "      <td>61.185185</td>\n",
              "      <td>26.588477</td>\n",
              "      <td>24.374486</td>\n",
              "      <td>86.049383</td>\n",
              "      <td>11.724280</td>\n",
              "    </tr>\n",
              "    <tr>\n",
              "      <th>11</th>\n",
              "      <td>2021</td>\n",
              "      <td>60.506849</td>\n",
              "      <td>52.753425</td>\n",
              "      <td>15.391781</td>\n",
              "      <td>49.805479</td>\n",
              "      <td>34.115068</td>\n",
              "    </tr>\n",
              "    <tr>\n",
              "      <th>12</th>\n",
              "      <td>2022</td>\n",
              "      <td>52.690909</td>\n",
              "      <td>49.181818</td>\n",
              "      <td>14.890909</td>\n",
              "      <td>50.909091</td>\n",
              "      <td>19.690909</td>\n",
              "    </tr>\n",
              "    <tr>\n",
              "      <th>13</th>\n",
              "      <td>2023</td>\n",
              "      <td>61.444444</td>\n",
              "      <td>35.558559</td>\n",
              "      <td>18.186186</td>\n",
              "      <td>21.072072</td>\n",
              "      <td>15.669670</td>\n",
              "    </tr>\n",
              "  </tbody>\n",
              "</table>\n",
              "</div>"
            ],
            "text/plain": [
              "   tahun       pm10        so2         co          o3        no2\n",
              "0   2010  52.563536  13.209945  35.552486   50.334254  18.116022\n",
              "1   2011  76.704110  17.468493  29.813699   89.161644  17.663014\n",
              "2   2012  78.243169  25.352459  37.071038  152.218579  18.658470\n",
              "3   2013  66.202740  20.849315  36.008219  116.120548  18.178082\n",
              "4   2014  67.347945  14.164384  33.849315   90.246575  18.449315\n",
              "5   2015  71.150685  23.715068  33.493151   73.336986  18.720548\n",
              "6   2016  63.071038  30.803279  43.551913   82.751366  15.215847\n",
              "7   2017  59.128767  43.931507  36.046575   83.923288  15.134247\n",
              "8   2018  62.665753  30.860274  24.158904  118.942466  15.863014\n",
              "9   2019  65.579710  27.886957  24.886957  111.944928  15.304348\n",
              "10  2020  61.185185  26.588477  24.374486   86.049383  11.724280\n",
              "11  2021  60.506849  52.753425  15.391781   49.805479  34.115068\n",
              "12  2022  52.690909  49.181818  14.890909   50.909091  19.690909\n",
              "13  2023  61.444444  35.558559  18.186186   21.072072  15.669670"
            ]
          },
          "execution_count": 21,
          "metadata": {},
          "output_type": "execute_result"
        }
      ],
      "source": [
        "air_trends_df = all_df.resample(rule='YE', on='tanggal').agg({\n",
        "    'pm10' : 'mean',\n",
        "    'so2' : 'mean',\n",
        "    'co' : 'mean',\n",
        "    'o3' : 'mean',\n",
        "    'no2': 'mean',\n",
        "})\n",
        "\n",
        "air_trends_df.index = air_trends_df.index.strftime('%Y')\n",
        "air_trends_df = air_trends_df.reset_index()\n",
        "\n",
        "air_trends_df.rename(columns={\n",
        "    'tanggal' : 'tahun'\n",
        "}, inplace=True)\n",
        "\n",
        "air_trends_df"
      ]
    },
    {
      "cell_type": "code",
      "execution_count": 22,
      "metadata": {},
      "outputs": [],
      "source": [
        "#visualisasi\n"
      ]
    },
    {
      "cell_type": "markdown",
      "metadata": {},
      "source": [
        "###  2. Kapan periode Terburuk dan Terbaik untuk Beraktivitas di Luar Ruangan di Jakarta?"
      ]
    },
    {
      "cell_type": "code",
      "execution_count": 41,
      "metadata": {},
      "outputs": [],
      "source": [
        "average_max= all_df['max'].mean()"
      ]
    },
    {
      "cell_type": "code",
      "execution_count": 42,
      "metadata": {},
      "outputs": [
        {
          "data": {
            "text/plain": [
              "bulan\n",
              "1      74.056511\n",
              "2      82.512262\n",
              "3      96.751244\n",
              "4      97.269720\n",
              "5     102.111111\n",
              "6     100.494872\n",
              "7     103.615196\n",
              "8     104.450980\n",
              "9     109.384401\n",
              "10    119.193029\n",
              "11    115.732591\n",
              "12     90.193548\n",
              "Name: max, dtype: float64"
            ]
          },
          "execution_count": 42,
          "metadata": {},
          "output_type": "execute_result"
        }
      ],
      "source": [
        "all_df['bulan'] = all_df['tanggal'].dt.month\n",
        "air_monthly = all_df.groupby('bulan')['max'].mean()\n",
        "\n",
        "air_monthly"
      ]
    },
    {
      "cell_type": "code",
      "execution_count": 24,
      "metadata": {},
      "outputs": [],
      "source": [
        "#Visualisasi"
      ]
    },
    {
      "cell_type": "markdown",
      "metadata": {},
      "source": [
        "### 3. Apakah Ganjil-Genap Berhasil Mengurangi Polusi Udara di Jakarta?"
      ]
    },
    {
      "cell_type": "code",
      "execution_count": 43,
      "metadata": {},
      "outputs": [
        {
          "data": {
            "text/html": [
              "<div>\n",
              "<style scoped>\n",
              "    .dataframe tbody tr th:only-of-type {\n",
              "        vertical-align: middle;\n",
              "    }\n",
              "\n",
              "    .dataframe tbody tr th {\n",
              "        vertical-align: top;\n",
              "    }\n",
              "\n",
              "    .dataframe thead th {\n",
              "        text-align: right;\n",
              "    }\n",
              "</style>\n",
              "<table border=\"1\" class=\"dataframe\">\n",
              "  <thead>\n",
              "    <tr style=\"text-align: right;\">\n",
              "      <th></th>\n",
              "      <th>tahun</th>\n",
              "      <th>pm10</th>\n",
              "      <th>so2</th>\n",
              "      <th>co</th>\n",
              "      <th>o3</th>\n",
              "      <th>no2</th>\n",
              "    </tr>\n",
              "  </thead>\n",
              "  <tbody>\n",
              "    <tr>\n",
              "      <th>0</th>\n",
              "      <td>2010</td>\n",
              "      <td>52.563536</td>\n",
              "      <td>13.209945</td>\n",
              "      <td>35.552486</td>\n",
              "      <td>50.334254</td>\n",
              "      <td>18.116022</td>\n",
              "    </tr>\n",
              "    <tr>\n",
              "      <th>1</th>\n",
              "      <td>2011</td>\n",
              "      <td>76.704110</td>\n",
              "      <td>17.468493</td>\n",
              "      <td>29.813699</td>\n",
              "      <td>89.161644</td>\n",
              "      <td>17.663014</td>\n",
              "    </tr>\n",
              "    <tr>\n",
              "      <th>2</th>\n",
              "      <td>2012</td>\n",
              "      <td>78.243169</td>\n",
              "      <td>25.352459</td>\n",
              "      <td>37.071038</td>\n",
              "      <td>152.218579</td>\n",
              "      <td>18.658470</td>\n",
              "    </tr>\n",
              "    <tr>\n",
              "      <th>3</th>\n",
              "      <td>2013</td>\n",
              "      <td>66.202740</td>\n",
              "      <td>20.849315</td>\n",
              "      <td>36.008219</td>\n",
              "      <td>116.120548</td>\n",
              "      <td>18.178082</td>\n",
              "    </tr>\n",
              "    <tr>\n",
              "      <th>4</th>\n",
              "      <td>2014</td>\n",
              "      <td>67.347945</td>\n",
              "      <td>14.164384</td>\n",
              "      <td>33.849315</td>\n",
              "      <td>90.246575</td>\n",
              "      <td>18.449315</td>\n",
              "    </tr>\n",
              "    <tr>\n",
              "      <th>5</th>\n",
              "      <td>2015</td>\n",
              "      <td>71.150685</td>\n",
              "      <td>23.715068</td>\n",
              "      <td>33.493151</td>\n",
              "      <td>73.336986</td>\n",
              "      <td>18.720548</td>\n",
              "    </tr>\n",
              "    <tr>\n",
              "      <th>6</th>\n",
              "      <td>2016</td>\n",
              "      <td>63.071038</td>\n",
              "      <td>30.803279</td>\n",
              "      <td>43.551913</td>\n",
              "      <td>82.751366</td>\n",
              "      <td>15.215847</td>\n",
              "    </tr>\n",
              "    <tr>\n",
              "      <th>7</th>\n",
              "      <td>2017</td>\n",
              "      <td>59.128767</td>\n",
              "      <td>43.931507</td>\n",
              "      <td>36.046575</td>\n",
              "      <td>83.923288</td>\n",
              "      <td>15.134247</td>\n",
              "    </tr>\n",
              "    <tr>\n",
              "      <th>8</th>\n",
              "      <td>2018</td>\n",
              "      <td>62.665753</td>\n",
              "      <td>30.860274</td>\n",
              "      <td>24.158904</td>\n",
              "      <td>118.942466</td>\n",
              "      <td>15.863014</td>\n",
              "    </tr>\n",
              "    <tr>\n",
              "      <th>9</th>\n",
              "      <td>2019</td>\n",
              "      <td>65.579710</td>\n",
              "      <td>27.886957</td>\n",
              "      <td>24.886957</td>\n",
              "      <td>111.944928</td>\n",
              "      <td>15.304348</td>\n",
              "    </tr>\n",
              "    <tr>\n",
              "      <th>10</th>\n",
              "      <td>2020</td>\n",
              "      <td>61.185185</td>\n",
              "      <td>26.588477</td>\n",
              "      <td>24.374486</td>\n",
              "      <td>86.049383</td>\n",
              "      <td>11.724280</td>\n",
              "    </tr>\n",
              "    <tr>\n",
              "      <th>11</th>\n",
              "      <td>2021</td>\n",
              "      <td>60.506849</td>\n",
              "      <td>52.753425</td>\n",
              "      <td>15.391781</td>\n",
              "      <td>49.805479</td>\n",
              "      <td>34.115068</td>\n",
              "    </tr>\n",
              "    <tr>\n",
              "      <th>12</th>\n",
              "      <td>2022</td>\n",
              "      <td>52.690909</td>\n",
              "      <td>49.181818</td>\n",
              "      <td>14.890909</td>\n",
              "      <td>50.909091</td>\n",
              "      <td>19.690909</td>\n",
              "    </tr>\n",
              "    <tr>\n",
              "      <th>13</th>\n",
              "      <td>2023</td>\n",
              "      <td>61.444444</td>\n",
              "      <td>35.558559</td>\n",
              "      <td>18.186186</td>\n",
              "      <td>21.072072</td>\n",
              "      <td>15.669670</td>\n",
              "    </tr>\n",
              "  </tbody>\n",
              "</table>\n",
              "</div>"
            ],
            "text/plain": [
              "   tahun       pm10        so2         co          o3        no2\n",
              "0   2010  52.563536  13.209945  35.552486   50.334254  18.116022\n",
              "1   2011  76.704110  17.468493  29.813699   89.161644  17.663014\n",
              "2   2012  78.243169  25.352459  37.071038  152.218579  18.658470\n",
              "3   2013  66.202740  20.849315  36.008219  116.120548  18.178082\n",
              "4   2014  67.347945  14.164384  33.849315   90.246575  18.449315\n",
              "5   2015  71.150685  23.715068  33.493151   73.336986  18.720548\n",
              "6   2016  63.071038  30.803279  43.551913   82.751366  15.215847\n",
              "7   2017  59.128767  43.931507  36.046575   83.923288  15.134247\n",
              "8   2018  62.665753  30.860274  24.158904  118.942466  15.863014\n",
              "9   2019  65.579710  27.886957  24.886957  111.944928  15.304348\n",
              "10  2020  61.185185  26.588477  24.374486   86.049383  11.724280\n",
              "11  2021  60.506849  52.753425  15.391781   49.805479  34.115068\n",
              "12  2022  52.690909  49.181818  14.890909   50.909091  19.690909\n",
              "13  2023  61.444444  35.558559  18.186186   21.072072  15.669670"
            ]
          },
          "execution_count": 43,
          "metadata": {},
          "output_type": "execute_result"
        }
      ],
      "source": [
        "air_trends_df = all_df.resample(rule='YE', on='tanggal').agg({\n",
        "    'pm10' : 'mean',\n",
        "    'so2' : 'mean',\n",
        "    'co' : 'mean',\n",
        "    'o3' : 'mean',\n",
        "    'no2': 'mean',\n",
        "})\n",
        "\n",
        "air_trends_df.index = air_trends_df.index.strftime('%Y')\n",
        "air_trends_df = air_trends_df.reset_index()\n",
        "\n",
        "air_trends_df.rename(columns={\n",
        "    'tanggal' : 'tahun'\n",
        "}, inplace=True)\n",
        "\n",
        "air_trends_df"
      ]
    },
    {
      "cell_type": "code",
      "execution_count": 26,
      "metadata": {},
      "outputs": [],
      "source": [
        "#visualisasi"
      ]
    },
    {
      "cell_type": "markdown",
      "metadata": {},
      "source": [
        "### 4. Apakah Perayaan Hari Besar Seperti Tahun Baru dan Lebaran Mempengaruhi Kualitas Udara?\n"
      ]
    },
    {
      "cell_type": "code",
      "execution_count": 27,
      "metadata": {},
      "outputs": [
        {
          "name": "stdout",
          "output_type": "stream",
          "text": [
            "Rata-rata ISPU pada Tahun Baru: 64.33333333333333\n",
            "Rata-rata ISPU pada Lebaran: 102.66666666666667\n"
          ]
        }
      ],
      "source": [
        "event_dates = {'Tahun Baru': ['2018-01-01', '2019-01-01', '2020-01-01'],\n",
        "               'Lebaran': ['2018-06-15', '2019-06-05', '2020-05-24']}\n",
        "for event, dates in event_dates.items():\n",
        "    event_df = all_df[all_df['tanggal'].isin(pd.to_datetime(dates))]\n",
        "    print(f\"Rata-rata ISPU pada {event}: {event_df['max'].mean()}\")"
      ]
    },
    {
      "cell_type": "code",
      "execution_count": 28,
      "metadata": {},
      "outputs": [],
      "source": [
        "# Visualisasi"
      ]
    },
    {
      "cell_type": "markdown",
      "metadata": {},
      "source": [
        "### 5. Apakah Udara Jakarta Lebih Bersih di Akhir Pekan Dibandingkan Hari Kerja?"
      ]
    },
    {
      "cell_type": "code",
      "execution_count": 29,
      "metadata": {},
      "outputs": [
        {
          "data": {
            "text/plain": [
              "kategori_hari\n",
              "Weekday    99.643786\n",
              "Weekend    98.976480\n",
              "Name: max, dtype: float64"
            ]
          },
          "execution_count": 29,
          "metadata": {},
          "output_type": "execute_result"
        }
      ],
      "source": [
        "all_df['hari'] = all_df['tanggal'].dt.dayofweek\n",
        "all_df['kategori_hari'] = all_df['hari'].apply(lambda x: 'Weekend' if x >= 5 else 'Weekday')\n",
        "weekend_vs_weekday = all_df.groupby('kategori_hari')['max'].mean()\n",
        "weekend_vs_weekday"
      ]
    },
    {
      "cell_type": "code",
      "execution_count": 30,
      "metadata": {},
      "outputs": [],
      "source": [
        "# Visualisasi"
      ]
    },
    {
      "cell_type": "markdown",
      "metadata": {},
      "source": [
        "### 6. Bagaimana pengaruh COVID-19 terhadap kualitas Udara di Jakarta\n"
      ]
    },
    {
      "cell_type": "code",
      "execution_count": 31,
      "metadata": {},
      "outputs": [
        {
          "data": {
            "text/plain": [
              "tahun\n",
              "2019    112.353623\n",
              "2020     88.049383\n",
              "2021     94.030137\n",
              "Name: max, dtype: float64"
            ]
          },
          "execution_count": 31,
          "metadata": {},
          "output_type": "execute_result"
        }
      ],
      "source": [
        "all_df['tahun'] = all_df['tanggal'].dt.year\n",
        "covid_years = all_df[all_df['tahun'].isin([2019, 2020, 2021])]\n",
        "covid_trend = covid_years.groupby('tahun')['max'].mean()\n",
        "covid_trend"
      ]
    },
    {
      "cell_type": "code",
      "execution_count": 32,
      "metadata": {},
      "outputs": [],
      "source": [
        "# Visualisasi"
      ]
    },
    {
      "cell_type": "markdown",
      "metadata": {},
      "source": [
        "### 7. Apakah Kualitas Udara Berbeda antara Wilayah Pusat dan Pinggiran Jakarta?\n"
      ]
    },
    {
      "cell_type": "code",
      "execution_count": 33,
      "metadata": {},
      "outputs": [
        {
          "data": {
            "text/plain": [
              "stasiun\n",
              "DKI1 (Bunderan HI)       66.314741\n",
              "DKI3 (Jagakarsa)         91.284783\n",
              "DKI2 (Kelapa Gading)    103.807537\n",
              "DKI4 (Lubang Buaya)     106.521357\n",
              "DKI5 (Kebon Jeruk)      110.587558\n",
              "Name: max, dtype: float64"
            ]
          },
          "execution_count": 33,
          "metadata": {},
          "output_type": "execute_result"
        }
      ],
      "source": [
        "stasiun_group = all_df.groupby('stasiun')['max'].mean().sort_values()\n",
        "stasiun_group"
      ]
    },
    {
      "cell_type": "code",
      "execution_count": 34,
      "metadata": {},
      "outputs": [],
      "source": [
        "# Visualisasi"
      ]
    },
    {
      "cell_type": "markdown",
      "metadata": {},
      "source": [
        "### 8. Apa Faktor Utama yang Menyebabkan Kualitas Udara Buruk di Jakarta?\n"
      ]
    },
    {
      "cell_type": "code",
      "execution_count": 35,
      "metadata": {},
      "outputs": [
        {
          "data": {
            "text/plain": [
              "pm10    0.446665\n",
              "so2     0.037016\n",
              "co      0.114005\n",
              "o3      0.866697\n",
              "no2     0.175396\n",
              "dtype: float64"
            ]
          },
          "execution_count": 35,
          "metadata": {},
          "output_type": "execute_result"
        }
      ],
      "source": [
        "pollutants = ['pm10', 'so2', 'co', 'o3', 'no2']\n",
        "pollutants_impact = all_df[pollutants].corrwith(all_df['max'])\n",
        "pollutants_impact"
      ]
    },
    {
      "cell_type": "code",
      "execution_count": 36,
      "metadata": {},
      "outputs": [],
      "source": [
        "# Visualisasi"
      ]
    },
    {
      "cell_type": "markdown",
      "metadata": {},
      "source": [
        "### 9. Apakah Polusi Udara Lebih Tinggi di Kawasan Industri?"
      ]
    },
    {
      "cell_type": "code",
      "execution_count": 37,
      "metadata": {},
      "outputs": [
        {
          "data": {
            "text/plain": [
              "kategori wilayah\n",
              "Bukan Kawasan Industri     89.792610\n",
              "Industrial                107.956098\n",
              "Name: max, dtype: float64"
            ]
          },
          "execution_count": 37,
          "metadata": {},
          "output_type": "execute_result"
        }
      ],
      "source": [
        "industrial_stations = ['DKI5 (Kebon Jeruk)', 'DKI4 (Lubang Buaya)']\n",
        "all_df['kategori wilayah'] =  all_df['stasiun'].apply(lambda x: 'Industrial' if x in industrial_stations else 'Bukan Kawasan Industri')\n",
        "industrial_vs_other = all_df.groupby(by='kategori wilayah')['max'].mean().sort_values()\n",
        "industrial_vs_other"
      ]
    },
    {
      "cell_type": "code",
      "execution_count": 38,
      "metadata": {},
      "outputs": [],
      "source": [
        "# Visualisasi"
      ]
    },
    {
      "cell_type": "code",
      "execution_count": 39,
      "metadata": {},
      "outputs": [
        {
          "data": {
            "text/html": [
              "<div>\n",
              "<style scoped>\n",
              "    .dataframe tbody tr th:only-of-type {\n",
              "        vertical-align: middle;\n",
              "    }\n",
              "\n",
              "    .dataframe tbody tr th {\n",
              "        vertical-align: top;\n",
              "    }\n",
              "\n",
              "    .dataframe thead th {\n",
              "        text-align: right;\n",
              "    }\n",
              "</style>\n",
              "<table border=\"1\" class=\"dataframe\">\n",
              "  <thead>\n",
              "    <tr style=\"text-align: right;\">\n",
              "      <th></th>\n",
              "      <th>tanggal</th>\n",
              "      <th>stasiun</th>\n",
              "      <th>pm10</th>\n",
              "      <th>so2</th>\n",
              "      <th>co</th>\n",
              "      <th>o3</th>\n",
              "      <th>no2</th>\n",
              "      <th>max</th>\n",
              "      <th>critical</th>\n",
              "      <th>categori</th>\n",
              "      <th>bulan</th>\n",
              "      <th>hari</th>\n",
              "      <th>kategori_hari</th>\n",
              "      <th>tahun</th>\n",
              "      <th>kategori wilayah</th>\n",
              "    </tr>\n",
              "  </thead>\n",
              "  <tbody>\n",
              "    <tr>\n",
              "      <th>0</th>\n",
              "      <td>2010-01-01</td>\n",
              "      <td>DKI1 (Bunderan HI)</td>\n",
              "      <td>60.0</td>\n",
              "      <td>4.0</td>\n",
              "      <td>73.0</td>\n",
              "      <td>27.0</td>\n",
              "      <td>14.0</td>\n",
              "      <td>73.0</td>\n",
              "      <td>co</td>\n",
              "      <td>SEDANG</td>\n",
              "      <td>1</td>\n",
              "      <td>4</td>\n",
              "      <td>Weekday</td>\n",
              "      <td>2010</td>\n",
              "      <td>Bukan Kawasan Industri</td>\n",
              "    </tr>\n",
              "    <tr>\n",
              "      <th>1</th>\n",
              "      <td>2010-01-02</td>\n",
              "      <td>DKI1 (Bunderan HI)</td>\n",
              "      <td>32.0</td>\n",
              "      <td>2.0</td>\n",
              "      <td>16.0</td>\n",
              "      <td>33.0</td>\n",
              "      <td>9.0</td>\n",
              "      <td>33.0</td>\n",
              "      <td>o3</td>\n",
              "      <td>BAIK</td>\n",
              "      <td>1</td>\n",
              "      <td>5</td>\n",
              "      <td>Weekend</td>\n",
              "      <td>2010</td>\n",
              "      <td>Bukan Kawasan Industri</td>\n",
              "    </tr>\n",
              "    <tr>\n",
              "      <th>2</th>\n",
              "      <td>2010-01-03</td>\n",
              "      <td>DKI1 (Bunderan HI)</td>\n",
              "      <td>27.0</td>\n",
              "      <td>2.0</td>\n",
              "      <td>19.0</td>\n",
              "      <td>20.0</td>\n",
              "      <td>9.0</td>\n",
              "      <td>27.0</td>\n",
              "      <td>pm10</td>\n",
              "      <td>BAIK</td>\n",
              "      <td>1</td>\n",
              "      <td>6</td>\n",
              "      <td>Weekend</td>\n",
              "      <td>2010</td>\n",
              "      <td>Bukan Kawasan Industri</td>\n",
              "    </tr>\n",
              "    <tr>\n",
              "      <th>3</th>\n",
              "      <td>2010-01-04</td>\n",
              "      <td>DKI1 (Bunderan HI)</td>\n",
              "      <td>22.0</td>\n",
              "      <td>2.0</td>\n",
              "      <td>16.0</td>\n",
              "      <td>15.0</td>\n",
              "      <td>6.0</td>\n",
              "      <td>22.0</td>\n",
              "      <td>pm10</td>\n",
              "      <td>BAIK</td>\n",
              "      <td>1</td>\n",
              "      <td>0</td>\n",
              "      <td>Weekday</td>\n",
              "      <td>2010</td>\n",
              "      <td>Bukan Kawasan Industri</td>\n",
              "    </tr>\n",
              "    <tr>\n",
              "      <th>4</th>\n",
              "      <td>2010-01-05</td>\n",
              "      <td>DKI1 (Bunderan HI)</td>\n",
              "      <td>25.0</td>\n",
              "      <td>2.0</td>\n",
              "      <td>17.0</td>\n",
              "      <td>15.0</td>\n",
              "      <td>8.0</td>\n",
              "      <td>25.0</td>\n",
              "      <td>pm10</td>\n",
              "      <td>BAIK</td>\n",
              "      <td>1</td>\n",
              "      <td>1</td>\n",
              "      <td>Weekday</td>\n",
              "      <td>2010</td>\n",
              "      <td>Bukan Kawasan Industri</td>\n",
              "    </tr>\n",
              "  </tbody>\n",
              "</table>\n",
              "</div>"
            ],
            "text/plain": [
              "     tanggal             stasiun  pm10  so2    co    o3   no2   max critical  \\\n",
              "0 2010-01-01  DKI1 (Bunderan HI)  60.0  4.0  73.0  27.0  14.0  73.0       co   \n",
              "1 2010-01-02  DKI1 (Bunderan HI)  32.0  2.0  16.0  33.0   9.0  33.0       o3   \n",
              "2 2010-01-03  DKI1 (Bunderan HI)  27.0  2.0  19.0  20.0   9.0  27.0     pm10   \n",
              "3 2010-01-04  DKI1 (Bunderan HI)  22.0  2.0  16.0  15.0   6.0  22.0     pm10   \n",
              "4 2010-01-05  DKI1 (Bunderan HI)  25.0  2.0  17.0  15.0   8.0  25.0     pm10   \n",
              "\n",
              "  categori  bulan  hari kategori_hari  tahun        kategori wilayah  \n",
              "0   SEDANG      1     4       Weekday   2010  Bukan Kawasan Industri  \n",
              "1     BAIK      1     5       Weekend   2010  Bukan Kawasan Industri  \n",
              "2     BAIK      1     6       Weekend   2010  Bukan Kawasan Industri  \n",
              "3     BAIK      1     0       Weekday   2010  Bukan Kawasan Industri  \n",
              "4     BAIK      1     1       Weekday   2010  Bukan Kawasan Industri  "
            ]
          },
          "execution_count": 39,
          "metadata": {},
          "output_type": "execute_result"
        }
      ],
      "source": [
        "all_df.head(5)"
      ]
    },
    {
      "cell_type": "code",
      "execution_count": 44,
      "metadata": {},
      "outputs": [],
      "source": [
        "all_df.to_csv(\"Data_Ispu_Jkt1\", index=False)"
      ]
    }
  ],
  "metadata": {
    "colab": {
      "provenance": []
    },
    "kernelspec": {
      "display_name": "Python 3",
      "name": "python3"
    },
    "language_info": {
      "codemirror_mode": {
        "name": "ipython",
        "version": 3
      },
      "file_extension": ".py",
      "mimetype": "text/x-python",
      "name": "python",
      "nbconvert_exporter": "python",
      "pygments_lexer": "ipython3",
      "version": "3.13.1"
    }
  },
  "nbformat": 4,
  "nbformat_minor": 0
}
